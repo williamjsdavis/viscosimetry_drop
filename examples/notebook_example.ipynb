{
 "cells": [
  {
   "cell_type": "markdown",
   "metadata": {},
   "source": [
    "# Example of notebook usage"
   ]
  },
  {
   "cell_type": "code",
   "execution_count": null,
   "metadata": {},
   "outputs": [],
   "source": [
    "using ViscosityDrop\n",
    "using JLD2\n",
    "using Plots, Printf"
   ]
  },
  {
   "cell_type": "markdown",
   "metadata": {},
   "source": [
    "## Set up simulation and run"
   ]
  },
  {
   "cell_type": "code",
   "execution_count": null,
   "metadata": {},
   "outputs": [],
   "source": [
    "filename = \"example\"\n",
    "dir = \".\"\n",
    "Ny, Nz = 64, 64\n",
    "do_all(filename, dir, Ny=Ny, Nz=Nz, yLength=2, zLength=2,\n",
    "                      ν=1e-1,\n",
    "                      z_position=0.6, width=0.2, amplitude=-1e-1,\n",
    "                      Δt=0.002, stop_time=120.0, iteration_interval=1000,\n",
    "                      schedule_interval=0.5, output_fields = :all)"
   ]
  },
  {
   "cell_type": "markdown",
   "metadata": {},
   "source": [
    "# Make animations\n",
    "\n",
    "### First open simulation"
   ]
  },
  {
   "cell_type": "code",
   "execution_count": null,
   "metadata": {},
   "outputs": [],
   "source": [
    "using JLD2\n",
    "file = jldopen(\"./example.jld2\")\n",
    "\n",
    "Ly = file[\"grid/Ly\"]\n",
    "Lz = file[\"grid/Lz\"]\n",
    "yb = range(-Ly/2,Ly/2,length=Ny)\n",
    "zb = range(-Lz,0,length=Nz)\n",
    "\n",
    "iterations = parse.(Int, keys(file[\"timeseries/t\"]))"
   ]
  },
  {
   "cell_type": "markdown",
   "metadata": {},
   "source": [
    "### Buoyancy"
   ]
  },
  {
   "cell_type": "code",
   "execution_count": null,
   "metadata": {},
   "outputs": [],
   "source": [
    "@gif for iter in iterations\n",
    "    t = file[\"timeseries/t/$iter\"]*7.4e-2\n",
    "    b_snapshot = file[\"timeseries/b/$iter\"][1, :, :]\n",
    "\n",
    "    contourf(yb, zb, b_snapshot',color=:balance,\n",
    "             title=\"Buoyancy, t=$(@sprintf(\"%.2f\", t)) ms\",\n",
    "             aspect_ratio=:equal)\n",
    "end"
   ]
  },
  {
   "cell_type": "markdown",
   "metadata": {},
   "source": [
    "### Vorticity"
   ]
  },
  {
   "cell_type": "code",
   "execution_count": null,
   "metadata": {},
   "outputs": [],
   "source": [
    "@gif for iter in iterations\n",
    "    t = file[\"timeseries/t/$iter\"]*7.4e-2\n",
    "    ω_snapshot = file[\"timeseries/ω/$iter\"][1, 1:Ny, 1:Nz]\n",
    "\n",
    "    contourf(yb, zb, ω_snapshot',color=:balance,\n",
    "             title=\"Vorticity, t=$(@sprintf(\"%.2f\", t)) ms\",\n",
    "             aspect_ratio=:equal)\n",
    "end"
   ]
  },
  {
   "cell_type": "markdown",
   "metadata": {},
   "source": [
    "# Post-processing\n",
    "\n",
    "Function `get_results()` will also save a `txt` file."
   ]
  },
  {
   "cell_type": "code",
   "execution_count": null,
   "metadata": {},
   "outputs": [],
   "source": [
    "out_results = get_results(dir, dir, \"example.jld2\"; Ncourse=11, verbose=false)"
   ]
  },
  {
   "cell_type": "code",
   "execution_count": null,
   "metadata": {},
   "outputs": [],
   "source": [
    "p1 = plot(out_results[:,1],out_results[:,2],\n",
    "          label=\"test1\", title=\"Circle radius\");\n",
    "p2 = plot(out_results[:,1],out_results[:,3],\n",
    "          label=\"test1\", title=\"y-position\");\n",
    "p3 = plot(out_results[:,1],out_results[:,4],\n",
    "          label=\"test1\", title=\"z-position\");\n",
    "p4 = plot(out_results[:,1],out_results[:,5],\n",
    "          label=\"test1\", title=\"Circle misfit\");\n",
    "p_all = plot(p1, p2, p3, p4, layout = (2, 2), legend = false)"
   ]
  },
  {
   "cell_type": "code",
   "execution_count": null,
   "metadata": {},
   "outputs": [],
   "source": []
  }
 ],
 "metadata": {
  "@webio": {
   "lastCommId": null,
   "lastKernelId": null
  },
  "kernelspec": {
   "display_name": "Julia 1.5.2",
   "language": "julia",
   "name": "julia-1.5"
  },
  "language_info": {
   "file_extension": ".jl",
   "mimetype": "application/julia",
   "name": "julia",
   "version": "1.5.2"
  }
 },
 "nbformat": 4,
 "nbformat_minor": 4
}

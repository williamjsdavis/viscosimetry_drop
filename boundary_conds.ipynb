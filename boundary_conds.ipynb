{
 "cells": [
  {
   "cell_type": "markdown",
   "metadata": {},
   "source": [
    "# Testing BCs\n",
    "\n",
    "Testing on (Bounded, Bounded, Bounded)"
   ]
  },
  {
   "cell_type": "code",
   "execution_count": 18,
   "metadata": {},
   "outputs": [],
   "source": [
    "using Oceananigans, Oceananigans.Advection, Oceananigans.Fields, Oceananigans.Grids\n",
    "using Oceananigans.AbstractOperations\n",
    "using Oceananigans.OutputWriters\n",
    "using JLD2"
   ]
  },
  {
   "cell_type": "code",
   "execution_count": 19,
   "metadata": {},
   "outputs": [
    {
     "data": {
      "text/plain": [
       "RegularCartesianGrid{Float64, Bounded, Bounded, Bounded}\n",
       "                   domain: x ∈ [0.0, 6.283185307179586], y ∈ [8.410780489584512e-18, 6.283185307179587], z ∈ [-6.283185307179586, 5.517472001167444e-16]\n",
       "                 topology: (Bounded, Bounded, Bounded)\n",
       "  resolution (Nx, Ny, Nz): (1, 64, 64)\n",
       "   halo size (Hx, Hy, Hz): (1, 1, 1)\n",
       "grid spacing (Δx, Δy, Δz): (6.283185307179586, 0.09817477042468103, 0.09817477042468103)"
      ]
     },
     "execution_count": 19,
     "metadata": {},
     "output_type": "execute_result"
    }
   ],
   "source": [
    "grid2D = RegularCartesianGrid(topology = (Bounded, Bounded, Bounded),\n",
    "                              size=(1, 64, 64), \n",
    "                              extent=(2π, 2π, 2π))"
   ]
  },
  {
   "cell_type": "code",
   "execution_count": 20,
   "metadata": {},
   "outputs": [
    {
     "data": {
      "text/plain": [
       "Oceananigans.FieldBoundaryConditions (NamedTuple{(:x, :y, :z)}), with boundary conditions\n",
       "├── x: CoordinateBoundaryConditions{BoundaryCondition{Flux,Nothing},BoundaryCondition{Flux,Nothing}}\n",
       "├── y: CoordinateBoundaryConditions{BoundaryCondition{NormalFlow,Float64},BoundaryCondition{NormalFlow,Float64}}\n",
       "└── z: CoordinateBoundaryConditions{BoundaryCondition{Value,Float64},BoundaryCondition{Value,Float64}}"
      ]
     },
     "execution_count": 20,
     "metadata": {},
     "output_type": "execute_result"
    }
   ],
   "source": [
    "v_bcs = VVelocityBoundaryConditions(grid2D,\n",
    "           top = BoundaryCondition(Value, 0.0),\n",
    "        bottom = BoundaryCondition(Value, 0.0),\n",
    "         north = BoundaryCondition(NormalFlow, 0.0),\n",
    "         south = BoundaryCondition(NormalFlow, 0.0)\n",
    ")"
   ]
  },
  {
   "cell_type": "code",
   "execution_count": 7,
   "metadata": {},
   "outputs": [
    {
     "data": {
      "text/plain": [
       "Oceananigans.FieldBoundaryConditions (NamedTuple{(:x, :y, :z)}), with boundary conditions\n",
       "├── x: CoordinateBoundaryConditions{BoundaryCondition{Flux,Nothing},BoundaryCondition{Flux,Nothing}}\n",
       "├── y: CoordinateBoundaryConditions{BoundaryCondition{Value,Float64},BoundaryCondition{Value,Float64}}\n",
       "└── z: CoordinateBoundaryConditions{BoundaryCondition{NormalFlow,Float64},BoundaryCondition{NormalFlow,Float64}}"
      ]
     },
     "execution_count": 7,
     "metadata": {},
     "output_type": "execute_result"
    }
   ],
   "source": [
    "w_bcs = WVelocityBoundaryConditions(grid2D,\n",
    "        north = BoundaryCondition(Value, 0.0),\n",
    "        south = BoundaryCondition(Value, 0.0),\n",
    "          top = BoundaryCondition(NormalFlow, 0.0),\n",
    "       bottom = BoundaryCondition(NormalFlow, 0.0)\n",
    ")"
   ]
  },
  {
   "cell_type": "code",
   "execution_count": 8,
   "metadata": {},
   "outputs": [
    {
     "data": {
      "text/plain": [
       "IncompressibleModel{CPU, Float64}(time = 0 seconds, iteration = 0) \n",
       "├── grid: RegularCartesianGrid{Float64, Bounded, Bounded, Bounded}(Nx=1, Ny=64, Nz=64)\n",
       "├── tracers: (:b,)\n",
       "├── closure: IsotropicDiffusivity{Float64,NamedTuple{(:b,),Tuple{Float64}}}\n",
       "├── buoyancy: BuoyancyTracer\n",
       "└── coriolis: Nothing"
      ]
     },
     "execution_count": 8,
     "metadata": {},
     "output_type": "execute_result"
    }
   ],
   "source": [
    "model2D = IncompressibleModel(timestepper = :RungeKutta3,\n",
    "                              advection = WENO5(),\n",
    "                                   grid = grid2D,\n",
    "                               buoyancy = BuoyancyTracer(),\n",
    "                                tracers = :b,\n",
    "                    boundary_conditions = (v=v_bcs, w=w_bcs),\n",
    "                                closure = IsotropicDiffusivity(ν=2e-4, κ=2e-4))"
   ]
  },
  {
   "cell_type": "code",
   "execution_count": 15,
   "metadata": {},
   "outputs": [
    {
     "name": "stdout",
     "output_type": "stream",
     "text": [
      "Field located at (Face, Cell, Cell)\n",
      "├── data: OffsetArrays.OffsetArray{Float64,3,Array{Float64,3}}, size: (8, 70, 70)\n",
      "├── grid: RegularCartesianGrid{Float64, Bounded, Bounded, Bounded}(Nx=1, Ny=64, Nz=64)\n",
      "└── boundary conditions: x=(west=NormalFlow, east=NormalFlow), y=(south=ZeroFlux, north=ZeroFlux), z=(bottom=ZeroFlux, top=ZeroFlux)\n",
      "Field located at (Cell, Face, Cell)\n",
      "├── data: OffsetArrays.OffsetArray{Float64,3,Array{Float64,3}}, size: (7, 71, 70)\n",
      "├── grid: RegularCartesianGrid{Float64, Bounded, Bounded, Bounded}(Nx=1, Ny=64, Nz=64)\n",
      "└── boundary conditions: x=(west=ZeroFlux, east=ZeroFlux), y=(south=NormalFlow, north=NormalFlow), z=(bottom=Value, top=Value)\n",
      "Field located at (Cell, Cell, Face)\n",
      "├── data: OffsetArrays.OffsetArray{Float64,3,Array{Float64,3}}, size: (7, 70, 71)\n",
      "├── grid: RegularCartesianGrid{Float64, Bounded, Bounded, Bounded}(Nx=1, Ny=64, Nz=64)\n",
      "└── boundary conditions: x=(west=ZeroFlux, east=ZeroFlux), y=(south=Value, north=Value), z=(bottom=NormalFlow, top=NormalFlow)\n"
     ]
    }
   ],
   "source": [
    "u, v, w = model2D.velocities;\n",
    "println(u)\n",
    "println(v)\n",
    "println(w)"
   ]
  },
  {
   "cell_type": "code",
   "execution_count": null,
   "metadata": {},
   "outputs": [],
   "source": []
  },
  {
   "cell_type": "code",
   "execution_count": null,
   "metadata": {},
   "outputs": [],
   "source": []
  }
 ],
 "metadata": {
  "kernelspec": {
   "display_name": "Julia 1.5.2",
   "language": "julia",
   "name": "julia-1.5"
  },
  "language_info": {
   "file_extension": ".jl",
   "mimetype": "application/julia",
   "name": "julia",
   "version": "1.5.2"
  }
 },
 "nbformat": 4,
 "nbformat_minor": 4
}

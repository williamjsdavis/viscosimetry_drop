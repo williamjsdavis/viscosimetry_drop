{
 "cells": [
  {
   "cell_type": "markdown",
   "metadata": {},
   "source": [
    "# Oceananigans (Flat, Bounded, Bounded)\n",
    "\n",
    "Currently not working \n",
    "\n",
    "https://github.com/CliMA/Oceananigans.jl/issues/1023"
   ]
  },
  {
   "cell_type": "code",
   "execution_count": 1,
   "metadata": {},
   "outputs": [
    {
     "name": "stdout",
     "output_type": "stream",
     "text": [
      "Julia Version 1.5.2\n",
      "Commit 539f3ce943 (2020-09-23 23:17 UTC)\n",
      "Platform Info:\n",
      "  OS: macOS (x86_64-apple-darwin18.7.0)\n",
      "  CPU: Intel(R) Core(TM) i7-4980HQ CPU @ 2.80GHz\n",
      "  WORD_SIZE: 64\n",
      "  LIBM: libopenlibm\n",
      "  LLVM: libLLVM-9.0.1 (ORCJIT, haswell)\n"
     ]
    }
   ],
   "source": [
    "versioninfo()"
   ]
  },
  {
   "cell_type": "code",
   "execution_count": 2,
   "metadata": {},
   "outputs": [
    {
     "name": "stdout",
     "output_type": "stream",
     "text": [
      "\u001b[32m\u001b[1mStatus\u001b[22m\u001b[39m `~/.julia/environments/v1.5/Project.toml`\n",
      " \u001b[90m [c52e3926] \u001b[39m\u001b[37mAtom v0.12.24\u001b[39m\n",
      " \u001b[90m [6e4b80f9] \u001b[39m\u001b[37mBenchmarkTools v0.5.0\u001b[39m\n",
      " \u001b[90m [aae7a2af] \u001b[39m\u001b[37mDiffEqFlux v1.24.0\u001b[39m\n",
      " \u001b[90m [0c46a032] \u001b[39m\u001b[37mDifferentialEquations v6.15.0\u001b[39m\n",
      " \u001b[90m [587475ba] \u001b[39m\u001b[37mFlux v0.11.1\u001b[39m\n",
      " \u001b[90m [7073ff75] \u001b[39m\u001b[37mIJulia v1.22.0\u001b[39m\n",
      " \u001b[90m [033835bb] \u001b[39m\u001b[37mJLD2 v0.2.4\u001b[39m\n",
      " \u001b[90m [e5e0dc1b] \u001b[39m\u001b[37mJuno v0.8.4\u001b[39m\n",
      " \u001b[90m [19f0c83c] \u001b[39m\u001b[37mNavierStokes2D v0.1.0 `~/.julia/dev/NavierStokes2D`\u001b[39m\n",
      " \u001b[90m [9e8cae18] \u001b[39m\u001b[37mOceananigans v0.44.0\u001b[39m\n",
      " \u001b[90m [14b8a8f1] \u001b[39m\u001b[37mPkgTemplates v0.7.13\u001b[39m\n",
      " \u001b[90m [91a5bcdd] \u001b[39m\u001b[37mPlots v1.9.0\u001b[39m\n",
      " \u001b[90m [90137ffa] \u001b[39m\u001b[37mStaticArrays v0.12.4\u001b[39m\n"
     ]
    }
   ],
   "source": [
    "] status"
   ]
  },
  {
   "cell_type": "code",
   "execution_count": 3,
   "metadata": {},
   "outputs": [],
   "source": [
    "using Oceananigans, Oceananigans.Advection, Oceananigans.Fields, Oceananigans.Grids"
   ]
  },
  {
   "cell_type": "code",
   "execution_count": 4,
   "metadata": {},
   "outputs": [
    {
     "data": {
      "text/plain": [
       "RegularCartesianGrid{Float64, Flat, Bounded, Bounded}\n",
       "                   domain: x ∈ [0.0, 0.0], y ∈ [8.410780489584512e-18, 6.283185307179587], z ∈ [-6.283185307179586, 5.517472001167444e-16]\n",
       "                 topology: (Flat, Bounded, Bounded)\n",
       "  resolution (Nx, Ny, Nz): (1, 64, 64)\n",
       "   halo size (Hx, Hy, Hz): (0, 1, 1)\n",
       "grid spacing (Δx, Δy, Δz): (0.0, 0.09817477042468103, 0.09817477042468103)"
      ]
     },
     "execution_count": 4,
     "metadata": {},
     "output_type": "execute_result"
    }
   ],
   "source": [
    "grid2Dtrue = RegularCartesianGrid(topology = (Flat, Bounded, Bounded),\n",
    "                              size=(64, 64), \n",
    "                              extent=(2π, 2π))"
   ]
  },
  {
   "cell_type": "code",
   "execution_count": 5,
   "metadata": {},
   "outputs": [
    {
     "data": {
      "text/plain": [
       "Oceananigans.FieldBoundaryConditions (NamedTuple{(:x, :y, :z)}), with boundary conditions\n",
       "├── x: CoordinateBoundaryConditions{Nothing,Nothing}\n",
       "├── y: CoordinateBoundaryConditions{BoundaryCondition{Value,Float64},BoundaryCondition{Value,Float64}}\n",
       "└── z: CoordinateBoundaryConditions{BoundaryCondition{NormalFlow,Nothing},BoundaryCondition{NormalFlow,Nothing}}"
      ]
     },
     "execution_count": 5,
     "metadata": {},
     "output_type": "execute_result"
    }
   ],
   "source": [
    "v_bcs = VVelocityBoundaryConditions(grid2Dtrue,\n",
    "           top = ValueBoundaryCondition(1.0),\n",
    "        bottom = ValueBoundaryCondition(0.0))\n",
    "\n",
    "w_bcs = WVelocityBoundaryConditions(grid2Dtrue,\n",
    "        north = ValueBoundaryCondition(0.0),\n",
    "        south = ValueBoundaryCondition(0.0))"
   ]
  },
  {
   "cell_type": "code",
   "execution_count": 6,
   "metadata": {},
   "outputs": [
    {
     "data": {
      "text/plain": [
       "IncompressibleModel{CPU, Float64}(time = 0 seconds, iteration = 0) \n",
       "├── grid: RegularCartesianGrid{Float64, Flat, Bounded, Bounded}(Nx=1, Ny=64, Nz=64)\n",
       "├── tracers: ()\n",
       "├── closure: IsotropicDiffusivity{Float64,NamedTuple{(),Tuple{}}}\n",
       "├── buoyancy: Nothing\n",
       "└── coriolis: Nothing"
      ]
     },
     "execution_count": 6,
     "metadata": {},
     "output_type": "execute_result"
    }
   ],
   "source": [
    "model2Dtrue = IncompressibleModel(grid = grid2Dtrue,\n",
    "                            timestepper = :RungeKutta3,\n",
    "                             advection = WENO5(),\n",
    "                               #buoyancy = BuoyancyTracer(),\n",
    "                               # tracers = :b,\n",
    "                              buoyancy = nothing,\n",
    "                                tracers = nothing,\n",
    "                    boundary_conditions = (v=v_bcs, w=w_bcs),\n",
    "                                closure = IsotropicDiffusivity(ν=2e-4, κ=2e-4)\n",
    "                           )"
   ]
  },
  {
   "cell_type": "code",
   "execution_count": 10,
   "metadata": {},
   "outputs": [],
   "source": [
    "u, v, w = model2Dtrue.velocities;"
   ]
  },
  {
   "cell_type": "markdown",
   "metadata": {},
   "source": [
    "Note that this will error:\n",
    "\n",
    "`MethodError: no method matching bctype_str(::Nothing)`\n",
    "\n",
    "if show is not surpressed, due to:\n",
    "https://github.com/CliMA/Oceananigans.jl/issues/1026"
   ]
  },
  {
   "cell_type": "code",
   "execution_count": 13,
   "metadata": {},
   "outputs": [],
   "source": [
    "progress(sim) = @info \"Iteration: $(sim.model.clock.iteration), time: $(round(Int, sim.model.clock.time))\"\n",
    "\n",
    "simulation = Simulation(model2Dtrue, Δt=0.2, \n",
    "    stop_time=20.0, iteration_interval=20, progress=progress);\n",
    "\n",
    "using Oceananigans.OutputWriters\n",
    "\n",
    "simulation.output_writers[:fields] = \n",
    "        JLD2OutputWriter(model2Dtrue, \n",
    "                         (v=v,w=w),\n",
    "                          schedule = TimeInterval(1.0),\n",
    "                          prefix = \"gravity_current\",\n",
    "                          force = true);"
   ]
  },
  {
   "cell_type": "code",
   "execution_count": 14,
   "metadata": {},
   "outputs": [
    {
     "name": "stderr",
     "output_type": "stream",
     "text": [
      "┌ Info: Iteration: 20, time: 4\n",
      "└ @ Main In[13]:1\n",
      "┌ Info: Iteration: 40, time: 8\n",
      "└ @ Main In[13]:1\n",
      "┌ Info: Iteration: 60, time: 12\n",
      "└ @ Main In[13]:1\n",
      "┌ Info: Iteration: 80, time: 16\n",
      "└ @ Main In[13]:1\n",
      "┌ Info: Iteration: 100, time: 20\n",
      "└ @ Main In[13]:1\n",
      "┌ Info: Simulation is stopping. Model time 20.000 seconds has hit or exceeded simulation stop time 20 seconds.\n",
      "└ @ Oceananigans.Simulations /Users/williamdavis/.julia/packages/Oceananigans/IbUoB/src/Simulations/run.jl:40\n"
     ]
    }
   ],
   "source": [
    "run!(simulation)"
   ]
  },
  {
   "cell_type": "code",
   "execution_count": 15,
   "metadata": {},
   "outputs": [
    {
     "data": {
      "text/plain": [
       "1×21 LinearAlgebra.Adjoint{Int64,Array{Int64,1}}:\n",
       " 0  5  11  15  20  26  31  36  41  46  …  60  65  70  75  80  85  90  95  100"
      ]
     },
     "execution_count": 15,
     "metadata": {},
     "output_type": "execute_result"
    }
   ],
   "source": [
    "using JLD2\n",
    "file = jldopen(simulation.output_writers[:fields].filepath)\n",
    "iterations = parse.(Int, keys(file[\"timeseries/t\"]))\n",
    "iterations'"
   ]
  },
  {
   "cell_type": "code",
   "execution_count": 16,
   "metadata": {},
   "outputs": [
    {
     "data": {
      "text/plain": [
       "64×65 Array{Float32,2}:\n",
       " 0.0  NaN  NaN  NaN  NaN  NaN  NaN  NaN  …  NaN  NaN  NaN  NaN  NaN  NaN  0.0\n",
       " 0.0  NaN  NaN  NaN  NaN  NaN  NaN  NaN     NaN  NaN  NaN  NaN  NaN  NaN  0.0\n",
       " 0.0  NaN  NaN  NaN  NaN  NaN  NaN  NaN     NaN  NaN  NaN  NaN  NaN  NaN  0.0\n",
       " 0.0  NaN  NaN  NaN  NaN  NaN  NaN  NaN     NaN  NaN  NaN  NaN  NaN  NaN  0.0\n",
       " 0.0  NaN  NaN  NaN  NaN  NaN  NaN  NaN     NaN  NaN  NaN  NaN  NaN  NaN  0.0\n",
       " 0.0  NaN  NaN  NaN  NaN  NaN  NaN  NaN  …  NaN  NaN  NaN  NaN  NaN  NaN  0.0\n",
       " 0.0  NaN  NaN  NaN  NaN  NaN  NaN  NaN     NaN  NaN  NaN  NaN  NaN  NaN  0.0\n",
       " 0.0  NaN  NaN  NaN  NaN  NaN  NaN  NaN     NaN  NaN  NaN  NaN  NaN  NaN  0.0\n",
       " 0.0  NaN  NaN  NaN  NaN  NaN  NaN  NaN     NaN  NaN  NaN  NaN  NaN  NaN  0.0\n",
       " 0.0  NaN  NaN  NaN  NaN  NaN  NaN  NaN     NaN  NaN  NaN  NaN  NaN  NaN  0.0\n",
       " 0.0  NaN  NaN  NaN  NaN  NaN  NaN  NaN  …  NaN  NaN  NaN  NaN  NaN  NaN  0.0\n",
       " 0.0  NaN  NaN  NaN  NaN  NaN  NaN  NaN     NaN  NaN  NaN  NaN  NaN  NaN  0.0\n",
       " 0.0  NaN  NaN  NaN  NaN  NaN  NaN  NaN     NaN  NaN  NaN  NaN  NaN  NaN  0.0\n",
       " ⋮                          ⋮            ⋱              ⋮                 \n",
       " 0.0  NaN  NaN  NaN  NaN  NaN  NaN  NaN     NaN  NaN  NaN  NaN  NaN  NaN  0.0\n",
       " 0.0  NaN  NaN  NaN  NaN  NaN  NaN  NaN     NaN  NaN  NaN  NaN  NaN  NaN  0.0\n",
       " 0.0  NaN  NaN  NaN  NaN  NaN  NaN  NaN     NaN  NaN  NaN  NaN  NaN  NaN  0.0\n",
       " 0.0  NaN  NaN  NaN  NaN  NaN  NaN  NaN  …  NaN  NaN  NaN  NaN  NaN  NaN  0.0\n",
       " 0.0  NaN  NaN  NaN  NaN  NaN  NaN  NaN     NaN  NaN  NaN  NaN  NaN  NaN  0.0\n",
       " 0.0  NaN  NaN  NaN  NaN  NaN  NaN  NaN     NaN  NaN  NaN  NaN  NaN  NaN  0.0\n",
       " 0.0  NaN  NaN  NaN  NaN  NaN  NaN  NaN     NaN  NaN  NaN  NaN  NaN  NaN  0.0\n",
       " 0.0  NaN  NaN  NaN  NaN  NaN  NaN  NaN     NaN  NaN  NaN  NaN  NaN  NaN  0.0\n",
       " 0.0  NaN  NaN  NaN  NaN  NaN  NaN  NaN  …  NaN  NaN  NaN  NaN  NaN  NaN  0.0\n",
       " 0.0  NaN  NaN  NaN  NaN  NaN  NaN  NaN     NaN  NaN  NaN  NaN  NaN  NaN  0.0\n",
       " 0.0  NaN  NaN  NaN  NaN  NaN  NaN  NaN     NaN  NaN  NaN  NaN  NaN  NaN  0.0\n",
       " 0.0  NaN  NaN  NaN  NaN  NaN  NaN  NaN     NaN  NaN  NaN  NaN  NaN  NaN  0.0"
      ]
     },
     "execution_count": 16,
     "metadata": {},
     "output_type": "execute_result"
    }
   ],
   "source": [
    "file[\"timeseries/w/5\"][1, :, :]"
   ]
  },
  {
   "cell_type": "code",
   "execution_count": null,
   "metadata": {},
   "outputs": [],
   "source": []
  }
 ],
 "metadata": {
  "kernelspec": {
   "display_name": "Julia 1.5.2",
   "language": "julia",
   "name": "julia-1.5"
  },
  "language_info": {
   "file_extension": ".jl",
   "mimetype": "application/julia",
   "name": "julia",
   "version": "1.5.2"
  }
 },
 "nbformat": 4,
 "nbformat_minor": 4
}

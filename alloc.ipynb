{
 "cells": [
  {
   "cell_type": "markdown",
   "metadata": {},
   "source": [
    "# Testing allocations"
   ]
  },
  {
   "cell_type": "code",
   "execution_count": 28,
   "metadata": {},
   "outputs": [],
   "source": [
    "using StaticArrays\n",
    "using BenchmarkTools"
   ]
  },
  {
   "cell_type": "code",
   "execution_count": 6,
   "metadata": {},
   "outputs": [],
   "source": [
    "abstract type AbstractLayer end\n",
    "\n",
    "struct FC{M,V} <: AbstractLayer\n",
    "    W::M\n",
    "    b::V\n",
    "    tmp::V\n",
    "    FC(W::M, b::V) where {M<:AbstractMatrix, V<:AbstractVector} = \n",
    "        new{M,V}(W, b, zero(b))\n",
    "end"
   ]
  },
  {
   "cell_type": "code",
   "execution_count": 7,
   "metadata": {},
   "outputs": [
    {
     "data": {
      "text/plain": [
       "relu (generic function with 1 method)"
      ]
     },
     "execution_count": 7,
     "metadata": {},
     "output_type": "execute_result"
    }
   ],
   "source": [
    "relu(x) = max(x,0)"
   ]
  },
  {
   "cell_type": "code",
   "execution_count": 9,
   "metadata": {},
   "outputs": [
    {
     "data": {
      "text/plain": [
       "compute_simple (generic function with 1 method)"
      ]
     },
     "execution_count": 9,
     "metadata": {},
     "output_type": "execute_result"
    }
   ],
   "source": [
    "function compute_simple(fc::FC, x)\n",
    "    W,b = fc.W, fc.b\n",
    "    relu.(W*x + b)\n",
    "end"
   ]
  },
  {
   "cell_type": "markdown",
   "metadata": {},
   "source": [
    "## Use StaticArrays"
   ]
  },
  {
   "cell_type": "code",
   "execution_count": 107,
   "metadata": {},
   "outputs": [],
   "source": [
    "sx,sy = 10, 15\n",
    "\n",
    "Wtest   = rand(sx,sy)\n",
    "WtestSV = SMatrix{sx,sy}(Wtest)\n",
    "WtestMV = MMatrix{sx,sy}(Wtest)\n",
    "WtestSS = Size(sx,sy)(Wtest)\n",
    "\n",
    "btest   = rand(sx)\n",
    "btestSV = SVector{sx}(btest)\n",
    "btestMV = MVector{sx}(btest)\n",
    "btestSS = Size(sx)(btest)\n",
    "\n",
    "fctest   = FC(Wtest, btest)\n",
    "fctestSV = FC(WtestSV, btestSV)\n",
    "fctestMV = FC(WtestMV, btestMV)\n",
    "fctestSS = FC(WtestSS, btestSS)\n",
    "\n",
    "inputtest = rand(sy)\n",
    "inputtestSV = SVector{sy}(inputtest)\n",
    "inputtestMV = MVector{sy}(inputtest)\n",
    "inputtestSS = Size(sy)(inputtest);"
   ]
  },
  {
   "cell_type": "code",
   "execution_count": 108,
   "metadata": {},
   "outputs": [
    {
     "name": "stdout",
     "output_type": "stream",
     "text": [
      "  230.249 ns (3 allocations: 480 bytes)\n"
     ]
    },
    {
     "data": {
      "text/plain": [
       "10-element Array{Float64,1}:\n",
       " 3.713271347463431\n",
       " 3.2383310627896753\n",
       " 3.987669369832495\n",
       " 3.4561800822731468\n",
       " 4.5100428786778135\n",
       " 4.661435217170334\n",
       " 4.244956701462266\n",
       " 3.304202366928738\n",
       " 4.00475573524668\n",
       " 2.9892531083648177"
      ]
     },
     "execution_count": 108,
     "metadata": {},
     "output_type": "execute_result"
    }
   ],
   "source": [
    "@btime compute_simple($fctest, $inputtest)"
   ]
  },
  {
   "cell_type": "code",
   "execution_count": 109,
   "metadata": {},
   "outputs": [
    {
     "name": "stdout",
     "output_type": "stream",
     "text": [
      "  0.025 ns (0 allocations: 0 bytes)\n"
     ]
    },
    {
     "data": {
      "text/plain": [
       "10-element SArray{Tuple{10},Float64,1,10} with indices SOneTo(10):\n",
       " 3.713271347463431\n",
       " 3.238331062789676\n",
       " 3.987669369832495\n",
       " 3.4561800822731468\n",
       " 4.5100428786778135\n",
       " 4.661435217170334\n",
       " 4.244956701462267\n",
       " 3.3042023669287377\n",
       " 4.00475573524668\n",
       " 2.9892531083648177"
      ]
     },
     "execution_count": 109,
     "metadata": {},
     "output_type": "execute_result"
    }
   ],
   "source": [
    "@btime compute_simple($fctestSV, $inputtestSV)"
   ]
  },
  {
   "cell_type": "code",
   "execution_count": 110,
   "metadata": {},
   "outputs": [
    {
     "name": "stdout",
     "output_type": "stream",
     "text": [
      "  39.477 ns (1 allocation: 96 bytes)\n"
     ]
    },
    {
     "data": {
      "text/plain": [
       "10-element MArray{Tuple{10},Float64,1,10} with indices SOneTo(10):\n",
       " 3.713271347463431\n",
       " 3.238331062789676\n",
       " 3.987669369832495\n",
       " 3.4561800822731468\n",
       " 4.5100428786778135\n",
       " 4.661435217170334\n",
       " 4.244956701462267\n",
       " 3.3042023669287377\n",
       " 4.00475573524668\n",
       " 2.9892531083648177"
      ]
     },
     "execution_count": 110,
     "metadata": {},
     "output_type": "execute_result"
    }
   ],
   "source": [
    "@btime compute_simple($fctestMV, $inputtestMV)"
   ]
  },
  {
   "cell_type": "code",
   "execution_count": 111,
   "metadata": {},
   "outputs": [
    {
     "name": "stdout",
     "output_type": "stream",
     "text": [
      "  133.983 ns (3 allocations: 480 bytes)\n"
     ]
    },
    {
     "data": {
      "text/plain": [
       "10-element SizedArray{Tuple{10},Float64,1,1} with indices SOneTo(10):\n",
       " 3.713271347463431\n",
       " 3.238331062789676\n",
       " 3.987669369832495\n",
       " 3.4561800822731468\n",
       " 4.5100428786778135\n",
       " 4.661435217170334\n",
       " 4.244956701462267\n",
       " 3.3042023669287377\n",
       " 4.00475573524668\n",
       " 2.9892531083648177"
      ]
     },
     "execution_count": 111,
     "metadata": {},
     "output_type": "execute_result"
    }
   ],
   "source": [
    "@btime compute_simple($fctestSS, $inputtestSS)"
   ]
  },
  {
   "cell_type": "markdown",
   "metadata": {},
   "source": [
    "# In place calculations"
   ]
  },
  {
   "cell_type": "code",
   "execution_count": 113,
   "metadata": {},
   "outputs": [],
   "source": [
    "using LinearAlgebra"
   ]
  },
  {
   "cell_type": "code",
   "execution_count": 115,
   "metadata": {},
   "outputs": [
    {
     "data": {
      "text/plain": [
       "compute_inplace! (generic function with 1 method)"
      ]
     },
     "execution_count": 115,
     "metadata": {},
     "output_type": "execute_result"
    }
   ],
   "source": [
    "function compute_inplace!(y, fc::FC, x)\n",
    "    W,b = fc.W, fc.b\n",
    "    tmp = fc.tmp\n",
    "    mul!(tmp, W, x)\n",
    "    y = relu.(tmp + b)\n",
    "end"
   ]
  },
  {
   "cell_type": "code",
   "execution_count": 117,
   "metadata": {},
   "outputs": [],
   "source": [
    "outputtest = zeros(sx)\n",
    "#outputtestSV = SVector{sx}(outputtest) # Can't mutatate SVectors\n",
    "outputtestMV = MVector{sx}(outputtest)\n",
    "outputtestSS = Size(sx)(outputtest);"
   ]
  },
  {
   "cell_type": "code",
   "execution_count": 119,
   "metadata": {},
   "outputs": [
    {
     "name": "stdout",
     "output_type": "stream",
     "text": [
      "  207.489 ns (2 allocations: 320 bytes)\n"
     ]
    },
    {
     "data": {
      "text/plain": [
       "10-element Array{Float64,1}:\n",
       " 3.713271347463431\n",
       " 3.2383310627896753\n",
       " 3.987669369832495\n",
       " 3.4561800822731468\n",
       " 4.5100428786778135\n",
       " 4.661435217170334\n",
       " 4.244956701462266\n",
       " 3.304202366928738\n",
       " 4.00475573524668\n",
       " 2.9892531083648177"
      ]
     },
     "execution_count": 119,
     "metadata": {},
     "output_type": "execute_result"
    }
   ],
   "source": [
    "@btime compute_inplace!($outputtest, $fctest, $inputtest)"
   ]
  },
  {
   "cell_type": "code",
   "execution_count": 121,
   "metadata": {},
   "outputs": [
    {
     "name": "stdout",
     "output_type": "stream",
     "text": [
      "  69.674 ns (1 allocation: 96 bytes)\n"
     ]
    },
    {
     "data": {
      "text/plain": [
       "10-element MArray{Tuple{10},Float64,1,10} with indices SOneTo(10):\n",
       " 3.713271347463431\n",
       " 3.238331062789676\n",
       " 3.987669369832495\n",
       " 3.4561800822731468\n",
       " 4.5100428786778135\n",
       " 4.661435217170334\n",
       " 4.244956701462267\n",
       " 3.3042023669287377\n",
       " 4.00475573524668\n",
       " 2.9892531083648177"
      ]
     },
     "execution_count": 121,
     "metadata": {},
     "output_type": "execute_result"
    }
   ],
   "source": [
    "@btime compute_inplace!($outputtestMV, $fctestMV, $inputtestMV)"
   ]
  },
  {
   "cell_type": "code",
   "execution_count": 122,
   "metadata": {},
   "outputs": [
    {
     "name": "stdout",
     "output_type": "stream",
     "text": [
      "  134.839 ns (2 allocations: 320 bytes)\n"
     ]
    },
    {
     "data": {
      "text/plain": [
       "10-element SizedArray{Tuple{10},Float64,1,1} with indices SOneTo(10):\n",
       " 3.713271347463431\n",
       " 3.238331062789676\n",
       " 3.987669369832495\n",
       " 3.4561800822731468\n",
       " 4.5100428786778135\n",
       " 4.661435217170334\n",
       " 4.244956701462267\n",
       " 3.3042023669287377\n",
       " 4.00475573524668\n",
       " 2.9892531083648177"
      ]
     },
     "execution_count": 122,
     "metadata": {},
     "output_type": "execute_result"
    }
   ],
   "source": [
    "@btime compute_inplace!($outputtestSS, $fctestSS, $inputtestSS)"
   ]
  },
  {
   "cell_type": "code",
   "execution_count": 148,
   "metadata": {},
   "outputs": [
    {
     "data": {
      "text/plain": [
       "compute_inplace_unwrapped! (generic function with 1 method)"
      ]
     },
     "execution_count": 148,
     "metadata": {},
     "output_type": "execute_result"
    }
   ],
   "source": [
    "function compute_inplace_unwrapped!(y, fc::FC, x)\n",
    "    W,b = fc.W, fc.b\n",
    "    tmp = fc.tmp\n",
    "    mul!(tmp, W, x)\n",
    "    for i in 1:length(y)\n",
    "        y[i] = relu(tmp[i] + b[i])\n",
    "    end\n",
    "    y\n",
    "end"
   ]
  },
  {
   "cell_type": "code",
   "execution_count": 150,
   "metadata": {},
   "outputs": [
    {
     "name": "stdout",
     "output_type": "stream",
     "text": [
      "  105.329 ns (0 allocations: 0 bytes)\n"
     ]
    },
    {
     "data": {
      "text/plain": [
       "10-element Array{Float64,1}:\n",
       " 3.713271347463431\n",
       " 3.2383310627896753\n",
       " 3.987669369832495\n",
       " 3.4561800822731468\n",
       " 4.5100428786778135\n",
       " 4.661435217170334\n",
       " 4.244956701462266\n",
       " 3.304202366928738\n",
       " 4.00475573524668\n",
       " 2.9892531083648177"
      ]
     },
     "execution_count": 150,
     "metadata": {},
     "output_type": "execute_result"
    }
   ],
   "source": [
    "@btime compute_inplace_unwrapped!($outputtest, $fctest, $inputtest)"
   ]
  },
  {
   "cell_type": "code",
   "execution_count": 151,
   "metadata": {},
   "outputs": [
    {
     "name": "stdout",
     "output_type": "stream",
     "text": [
      "  62.679 ns (0 allocations: 0 bytes)\n"
     ]
    },
    {
     "data": {
      "text/plain": [
       "10-element MArray{Tuple{10},Float64,1,10} with indices SOneTo(10):\n",
       " 3.713271347463431\n",
       " 3.238331062789676\n",
       " 3.987669369832495\n",
       " 3.4561800822731468\n",
       " 4.5100428786778135\n",
       " 4.661435217170334\n",
       " 4.244956701462267\n",
       " 3.3042023669287377\n",
       " 4.00475573524668\n",
       " 2.9892531083648177"
      ]
     },
     "execution_count": 151,
     "metadata": {},
     "output_type": "execute_result"
    }
   ],
   "source": [
    "@btime compute_inplace_unwrapped!($outputtestMV, $fctestMV, $inputtestMV)"
   ]
  },
  {
   "cell_type": "code",
   "execution_count": 152,
   "metadata": {},
   "outputs": [
    {
     "name": "stdout",
     "output_type": "stream",
     "text": [
      "  69.454 ns (0 allocations: 0 bytes)\n"
     ]
    },
    {
     "data": {
      "text/plain": [
       "10-element SizedArray{Tuple{10},Float64,1,1} with indices SOneTo(10):\n",
       " 3.713271347463431\n",
       " 3.238331062789676\n",
       " 3.987669369832495\n",
       " 3.4561800822731468\n",
       " 4.5100428786778135\n",
       " 4.661435217170334\n",
       " 4.244956701462267\n",
       " 3.3042023669287377\n",
       " 4.00475573524668\n",
       " 2.9892531083648177"
      ]
     },
     "execution_count": 152,
     "metadata": {},
     "output_type": "execute_result"
    }
   ],
   "source": [
    "@btime compute_inplace_unwrapped!($outputtestSS, $fctestSS, $inputtestSS)"
   ]
  },
  {
   "cell_type": "markdown",
   "metadata": {},
   "source": [
    "# Function barriers"
   ]
  },
  {
   "cell_type": "code",
   "execution_count": 153,
   "metadata": {},
   "outputs": [],
   "source": [
    "struct NeuralNet{T}\n",
    "    layers::Vector{AbstractLayer}\n",
    "    tmp::Vector{Vector{T}}\n",
    "    res::Vector{T}\n",
    "end"
   ]
  },
  {
   "cell_type": "code",
   "execution_count": 181,
   "metadata": {},
   "outputs": [
    {
     "data": {
      "text/plain": [
       "compute! (generic function with 1 method)"
      ]
     },
     "execution_count": 181,
     "metadata": {},
     "output_type": "execute_result"
    }
   ],
   "source": [
    "function compute_naive(Ws, bs, x0)\n",
    "    x = x0\n",
    "    for i in 1:length(Ws)\n",
    "        x = relu.(Ws[i]*x + bs[i])\n",
    "        #x = y\n",
    "    end\n",
    "    return x\n",
    "end\n",
    "function compute!(nn::NeuralNet, x)\n",
    "    nn.tmp[1] .= x\n",
    "    for i in 1:length(nn.layers)\n",
    "        compute_inplace_unwrapped!(\n",
    "            nn.tmp[i+1],\n",
    "            nn.layers[i],\n",
    "            nn.tmp[i]\n",
    "        )\n",
    "    end\n",
    "    return nn.tmp[end]\n",
    "end"
   ]
  },
  {
   "cell_type": "code",
   "execution_count": 159,
   "metadata": {},
   "outputs": [],
   "source": [
    "s1x,s1y = 10, 15\n",
    "s2x,s2y = 5, 10\n",
    "\n",
    "W1test   = rand(s1x,s1y)\n",
    "W1testSV = SMatrix{s1x,s1y}(W1test)\n",
    "W1testMV = MMatrix{s1x,s1y}(W1test)\n",
    "W1testSS = Size(s1x,s1y)(W1test)\n",
    "W2test   = rand(s2x,s2y)\n",
    "W2testSV = SMatrix{s2x,s2y}(W2test)\n",
    "W2testMV = MMatrix{s2x,s2y}(W2test)\n",
    "W2testSS = Size(s2x,s2y)(W2test)\n",
    "\n",
    "b1test   = rand(s1x)\n",
    "b1testSV = SVector{s1x}(b1test)\n",
    "b1testMV = MVector{s1x}(b1test)\n",
    "b1testSS = Size(s1x)(b1test)\n",
    "b2test   = rand(s2x)\n",
    "b2testSV = SVector{s2x}(b2test)\n",
    "b2testMV = MVector{s2x}(b2test)\n",
    "b2testSS = Size(s2x)(b2test)\n",
    "\n",
    "fc1test   = FC(W1test, b1test)\n",
    "fc1testSV = FC(W1testSV, b1testSV)\n",
    "fc1testMV = FC(W1testMV, b1testMV)\n",
    "fc1testSS = FC(W1testSS, b1testSS)\n",
    "fc2test   = FC(W2test, b2test)\n",
    "fc2testSV = FC(W2testSV, b2testSV)\n",
    "fc2testMV = FC(W2testMV, b2testMV)\n",
    "fc2testSS = FC(W2testSS, b2testSS)\n",
    "\n",
    "inputtest = rand(s1y)\n",
    "inputtestSV = SVector{s1y}(inputtest)\n",
    "inputtestMV = MVector{s1y}(inputtest)\n",
    "inputtestSS = Size(s1y)(inputtest);"
   ]
  },
  {
   "cell_type": "code",
   "execution_count": 189,
   "metadata": {},
   "outputs": [],
   "source": [
    "nntest   = NeuralNet{Float64}([fc1test, fc2test], [zeros(s1y),zeros(s1x),zeros(s2x)], zeros(s2x))\n",
    "nntestSV = NeuralNet{Float64}([fc1testSV, fc2testSV], [zeros(s1y),zeros(s1x),zeros(s2x)], zeros(s2x))\n",
    "nntestMV = NeuralNet{Float64}([fc1testMV, fc2testMV], [zeros(s1y),zeros(s1x),zeros(s2x)], zeros(s2x))\n",
    "nntestSS = NeuralNet{Float64}([fc1testSS, fc2testSS], [zeros(s1y),zeros(s1x),zeros(s2x)], zeros(s2x));"
   ]
  },
  {
   "cell_type": "code",
   "execution_count": 190,
   "metadata": {},
   "outputs": [
    {
     "name": "stdout",
     "output_type": "stream",
     "text": [
      "  294.028 ns (0 allocations: 0 bytes)\n"
     ]
    },
    {
     "data": {
      "text/plain": [
       "5-element Array{Float64,1}:\n",
       " 23.31074108279547\n",
       " 25.052350941408143\n",
       " 25.522754182283403\n",
       " 21.84304598257672\n",
       " 20.674088841651265"
      ]
     },
     "execution_count": 190,
     "metadata": {},
     "output_type": "execute_result"
    }
   ],
   "source": [
    "@btime compute!(nntest, inputtest)"
   ]
  },
  {
   "cell_type": "code",
   "execution_count": 191,
   "metadata": {},
   "outputs": [
    {
     "name": "stdout",
     "output_type": "stream",
     "text": [
      "  691.257 ns (8 allocations: 1.03 KiB)\n"
     ]
    },
    {
     "data": {
      "text/plain": [
       "5-element Array{Float64,1}:\n",
       " 23.31074108279547\n",
       " 25.052350941408143\n",
       " 25.522754182283403\n",
       " 21.84304598257672\n",
       " 20.674088841651265"
      ]
     },
     "execution_count": 191,
     "metadata": {},
     "output_type": "execute_result"
    }
   ],
   "source": [
    "@btime compute_naive([W1test, W2test], [b1test, b2test], inputtest)"
   ]
  },
  {
   "cell_type": "code",
   "execution_count": 194,
   "metadata": {},
   "outputs": [
    {
     "name": "stdout",
     "output_type": "stream",
     "text": [
      "  226.925 ns (0 allocations: 0 bytes)\n"
     ]
    },
    {
     "data": {
      "text/plain": [
       "5-element Array{Float64,1}:\n",
       " 23.310741082795474\n",
       " 25.052350941408147\n",
       " 25.522754182283403\n",
       " 21.843045982576715\n",
       " 20.674088841651265"
      ]
     },
     "execution_count": 194,
     "metadata": {},
     "output_type": "execute_result"
    }
   ],
   "source": [
    "@btime compute!(nntestMV, inputtestMV)"
   ]
  },
  {
   "cell_type": "code",
   "execution_count": null,
   "metadata": {},
   "outputs": [],
   "source": []
  }
 ],
 "metadata": {
  "kernelspec": {
   "display_name": "Julia 1.5.2",
   "language": "julia",
   "name": "julia-1.5"
  },
  "language_info": {
   "file_extension": ".jl",
   "mimetype": "application/julia",
   "name": "julia",
   "version": "1.5.2"
  }
 },
 "nbformat": 4,
 "nbformat_minor": 4
}

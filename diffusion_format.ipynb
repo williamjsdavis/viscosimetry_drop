{
 "cells": [
  {
   "cell_type": "markdown",
   "metadata": {},
   "source": [
    "# Testing diffusion problem format"
   ]
  },
  {
   "cell_type": "markdown",
   "metadata": {},
   "source": [
    "Grid and parameters"
   ]
  },
  {
   "cell_type": "code",
   "execution_count": 1,
   "metadata": {},
   "outputs": [],
   "source": [
    "struct Grid\n",
    "    xmax::Float64\n",
    "    ymax::Float64\n",
    "\n",
    "    nx::Int64\n",
    "    ny::Int64\n",
    "    \n",
    "    Δx::Float64\n",
    "    Δy::Float64\n",
    "\n",
    "    xRange::Array{Float64,1}\n",
    "    yRange::Array{Float64,1}\n",
    "\n",
    "    function Grid(xmax, ymax, nx, ny)\n",
    "        Δx = 2*xmax/(nx-1)\n",
    "        Δy = 2*ymax/(ny-1)\n",
    "\n",
    "        xRange = (-xmax:Δx:xmax)\n",
    "        yRange = (-ymax:Δy:ymax)\n",
    "\n",
    "        return new(xmax, ymax, nx, ny, Δx, Δy, xRange, yRange)\n",
    "    end\n",
    "end\n",
    "struct Parameters\n",
    "    ν::Float64\n",
    "    σ::Float64\n",
    "    tspan::Tuple{Float64,Float64}\n",
    "end"
   ]
  },
  {
   "cell_type": "markdown",
   "metadata": {},
   "source": [
    "Model setup"
   ]
  },
  {
   "cell_type": "code",
   "execution_count": 2,
   "metadata": {},
   "outputs": [
    {
     "data": {
      "text/plain": [
       "DiffusionModel"
      ]
     },
     "execution_count": 2,
     "metadata": {},
     "output_type": "execute_result"
    }
   ],
   "source": [
    "abstract type FluidModel end\n",
    "mutable struct DiffusionModel{T<:Union{Function,Nothing}} <: FluidModel\n",
    "    u0::Array{Float64,2}\n",
    "    u_analytic::T\n",
    "    \n",
    "    grid::Grid\n",
    "    parameters::Parameters\n",
    "    \n",
    "    Δt::Float64\n",
    "    t::Array{Float64,1}\n",
    "    \n",
    "    function DiffusionModel(u0, u_analytic::T, grid, parameters) where T<:Union{Function,Nothing}\n",
    "        \n",
    "        Δt = parameters.σ*grid.Δx*grid.Δy/parameters.ν\n",
    "        t = parameters.tspan[1]:Δt:parameters.tspan[2]\n",
    "        \n",
    "        return new{T}(u0, u_analytic, grid, parameters, Δt ,t)\n",
    "    end\n",
    "end\n",
    "    #function DiffusionModel(grid, parameters)\n",
    "    #    u = zeros(grid.ny, grid.nx)\n",
    "    #    u_analytic = nothing\n",
    "\n",
    "    #    Δt, t = calculate_time(grid, parameters)\n",
    "        \n",
    "    #    return new{Nothing}(u, u_analytic, grid, parameters, Δt ,t)\n",
    "    #end\n",
    "    #function DiffusionModel(u0, grid, parameters)\n",
    "    #    u_analytic = nothing\n",
    "\n",
    "    #    Δt, t = calculate_time(grid, parameters)\n",
    "        \n",
    "    #    return new{Nothing}(u0, u_analytic, grid, parameters, Δt ,t)\n",
    "    #end\n",
    "    #function DiffusionModel(u0, u_analytic, grid, parameters)\n",
    "\n",
    "    #    Δt, t = calculate_time(grid, parameters)\n",
    "        \n",
    "    #    return new{Function}(u0, u_analytic, grid, parameters, Δt ,t)\n",
    "    #end\n",
    "#end\n",
    "#function calculate_time(grid::Grid, parameters::Parameters)\n",
    "#    Δt = parameters.σ*grid.Δx*grid.Δy/parameters.ν\n",
    "#    t = parameters.tspan[1]:Δt:parameters.tspan[2]\n",
    "#    return Δt, t\n",
    "#end\n",
    "function DiffusionModel(grid, parameters)\n",
    "    u = zeros(grid.ny, grid.nx)\n",
    "    u_analytic = nothing\n",
    "\n",
    "    return DiffusionModel{Nothing}(u, u_analytic, grid, parameters)\n",
    "end\n",
    "function DiffusionModel(u0, grid, parameters)\n",
    "    u_analytic = nothing\n",
    "\n",
    "    return DiffusionModel{Nothing}(u0, u_analytic, grid, parameters)\n",
    "end\n",
    "function DiffusionModel(u0, u_analytic, grid, parameters)\n",
    "\n",
    "    return DiffusionModel{Function}(u0, u_analytic, grid, parameters)\n",
    "end"
   ]
  },
  {
   "cell_type": "markdown",
   "metadata": {},
   "source": [
    "Test setup of model"
   ]
  },
  {
   "cell_type": "code",
   "execution_count": null,
   "metadata": {},
   "outputs": [],
   "source": [
    "#dump(DiffusionModel(copy(mod_test.u0), sqrt, grid_test, param_test))\n",
    "DiffusionModel(zeros(grid_test.ny, grid_test.nx), u_analytic::T, grid, parameters)"
   ]
  },
  {
   "cell_type": "code",
   "execution_count": 3,
   "metadata": {},
   "outputs": [
    {
     "ename": "LoadError",
     "evalue": "MethodError: no method matching DiffusionModel{Nothing}(::Array{Float64,2}, ::Nothing, ::Grid, ::Parameters)",
     "output_type": "error",
     "traceback": [
      "MethodError: no method matching DiffusionModel{Nothing}(::Array{Float64,2}, ::Nothing, ::Grid, ::Parameters)",
      "",
      "Stacktrace:",
      " [1] DiffusionModel(::Grid, ::Parameters) at ./In[2]:51",
      " [2] top-level scope at In[3]:3",
      " [3] include_string(::Function, ::Module, ::String, ::String) at ./loading.jl:1091",
      " [4] execute_code(::String, ::String) at /Users/williamdavis/.julia/packages/IJulia/a1SNk/src/execute_request.jl:27",
      " [5] execute_request(::ZMQ.Socket, ::IJulia.Msg) at /Users/williamdavis/.julia/packages/IJulia/a1SNk/src/execute_request.jl:86",
      " [6] #invokelatest#1 at ./essentials.jl:710 [inlined]",
      " [7] invokelatest at ./essentials.jl:709 [inlined]",
      " [8] eventloop(::ZMQ.Socket) at /Users/williamdavis/.julia/packages/IJulia/a1SNk/src/eventloop.jl:8",
      " [9] (::IJulia.var\"#15#18\")() at ./task.jl:356"
     ]
    }
   ],
   "source": [
    "grid_test = Grid(1., 2., 4, 6)\n",
    "param_test = Parameters(0.2, 0.00025, (0., 1.))\n",
    "mod_test = DiffusionModel(grid_test, param_test)\n",
    "mod_test.u0[2,2] = 10\n",
    "dump(mod_test)"
   ]
  },
  {
   "cell_type": "markdown",
   "metadata": {},
   "source": [
    "Cache"
   ]
  },
  {
   "cell_type": "code",
   "execution_count": null,
   "metadata": {},
   "outputs": [],
   "source": [
    "abstract type DiffusionCache end\n",
    "mutable struct ExplicitDiffusionCache <: DiffusionCache\n",
    "    u::Array{Float64,2}\n",
    "    uprev::Array{Float64,2}\n",
    "    t::Float64\n",
    "end\n",
    "mutable struct CNDiffusionCache <: DiffusionCache\n",
    "    u::Array{Float64,2}\n",
    "    uprev::Array{Float64,2}\n",
    "    rhs::Array{Float64,2}\n",
    "    a1::Array{Float64,2}\n",
    "    a2::Array{Float64,2}\n",
    "    t::Float64\n",
    "end\n",
    "mutable struct ADIDiffusionCache <: DiffusionCache\n",
    "    u::Array{Float64,2}\n",
    "    uhalf::Array{Float64,2}\n",
    "    uprev::Array{Float64,2}\n",
    "    rhs::Array{Float64,2}\n",
    "    a1x::Array{Float64,2}\n",
    "    a1y::Array{Float64,2}\n",
    "    a2x::Array{Float64,2}\n",
    "    a2y::Array{Float64,2}\n",
    "    t::Float64\n",
    "end"
   ]
  },
  {
   "cell_type": "markdown",
   "metadata": {},
   "source": [
    "Methods"
   ]
  },
  {
   "cell_type": "code",
   "execution_count": null,
   "metadata": {},
   "outputs": [],
   "source": [
    "abstract type DiffusionMethod end\n",
    "struct ExplicitDiffusion <: DiffusionMethod end\n",
    "struct CrankNickolsonDiffusion <: DiffusionMethod end\n",
    "struct ADIDiffusion <: DiffusionMethod end"
   ]
  },
  {
   "cell_type": "code",
   "execution_count": null,
   "metadata": {},
   "outputs": [],
   "source": [
    "function perform_step!(model::DiffusionModel, method::ExplicitDiffusion, cache::ExplicitDiffusionCache)\n",
    "    u = cache.u\n",
    "    un = cache.uprev\n",
    "    nx = model.grid.nx\n",
    "    ny = model.grid.ny\n",
    "    Δx = model.grid.Δx\n",
    "    Δy = model.grid.Δy\n",
    "    Δt = model.Δt\n",
    "    ν  = model.parameters.ν\n",
    "    \n",
    "    copy!(un,u)\n",
    "    for j in 2:ny-1, i in 2:nx-1\n",
    "        u[j,i] = un[j,i] + \n",
    "            ν*Δt/(Δx*Δx)*(un[j  ,i+1]-2*un[j,i]+un[j  ,i-1]) + \n",
    "            ν*Δt/(Δy*Δy)*(un[j+1,i  ]-2*un[j,i]+un[j-1,i  ])\n",
    "    end\n",
    "    \n",
    "    return nothing\n",
    "end\n",
    "function apply_BCs!(cache)\n",
    "    u = cache.u\n",
    "    u[1,:]   .= 0.0\n",
    "    u[end,:] .= 0.0\n",
    "    u[:,1]   .= 0.0\n",
    "    u[:,end] .= 0.0\n",
    "    return nothing\n",
    "end;"
   ]
  },
  {
   "cell_type": "markdown",
   "metadata": {},
   "source": [
    "Cache initialisers"
   ]
  },
  {
   "cell_type": "code",
   "execution_count": null,
   "metadata": {},
   "outputs": [],
   "source": [
    "init_cache(model, method::ExplicitDiffusion) = \n",
    "    ExplicitDiffusionCache(copy(model.u0), copy(model.u0), copy(mod_test.parameters.tspan[1]));"
   ]
  },
  {
   "cell_type": "markdown",
   "metadata": {},
   "source": [
    "Problem = model + method + (cache)"
   ]
  },
  {
   "cell_type": "code",
   "execution_count": null,
   "metadata": {},
   "outputs": [],
   "source": [
    "abstract type FluidProblem end\n",
    "mutable struct DiffusionProblem{MethodType<:DiffusionMethod, CacheType<:DiffusionCache} <: FluidProblem\n",
    "    model::DiffusionModel\n",
    "    method::MethodType\n",
    "    cache::CacheType\n",
    "end\n",
    "function DiffusionProblem(model, M::MethodType) where MethodType\n",
    "    cache = init_cache(model, M)\n",
    "    CacheType = typeof(cache)\n",
    "    return DiffusionProblem{MethodType, CacheType}(model, M, cache)\n",
    "end;"
   ]
  },
  {
   "cell_type": "code",
   "execution_count": null,
   "metadata": {},
   "outputs": [],
   "source": [
    "abstract type FluidSolution end\n",
    "mutable struct DiffusionSolution{T<:Union{Array{Float64,2},Nothing}} <: FluidSolution\n",
    "    u::Array{Float64,2}\n",
    "    \n",
    "    u_analytic::T\n",
    "    errors::T\n",
    "    \n",
    "    prob::DiffusionProblem\n",
    "    retcode::Bool\n",
    "end\n",
    "function DiffusionSolution(u::Array{Float64,2}, prob::DiffusionProblem, retcode::Bool)\n",
    "    return DiffusionSolution(u, nothing, nothing, prob, retcode)\n",
    "end;"
   ]
  },
  {
   "cell_type": "markdown",
   "metadata": {},
   "source": [
    "Solve problem"
   ]
  },
  {
   "cell_type": "code",
   "execution_count": null,
   "metadata": {},
   "outputs": [],
   "source": [
    "function solve(prob::DiffusionProblem)\n",
    "    sol = solve!(prob)\n",
    "    return sol\n",
    "end\n",
    "function solve!(prob::DiffusionProblem)\n",
    "    while prob.cache.t < prob.model.parameters.tspan[2]\n",
    "        timestep!(prob)\n",
    "    end\n",
    "    #return DiffusionSolution(prob.cache.u, prob.cache.u, prob.cache.u, prob, true)\n",
    "    return DiffusionSolution(prob.cache.u, prob, true)\n",
    "    #return prob.cache.u\n",
    "end\n",
    "function timestep!(prob::DiffusionProblem)\n",
    "    #println(\"t = \", prob.cache.t)\n",
    "    perform_step!(prob.model, prob.method, prob.cache)\n",
    "    apply_BCs!(prob.cache)\n",
    "    prob.cache.t += prob.model.Δt\n",
    "    return nothing\n",
    "end;"
   ]
  },
  {
   "cell_type": "markdown",
   "metadata": {},
   "source": [
    "Initialise problem object"
   ]
  },
  {
   "cell_type": "code",
   "execution_count": null,
   "metadata": {},
   "outputs": [],
   "source": [
    "prob_test = DiffusionProblem(mod_test, ExplicitDiffusion())\n",
    "dump(prob_test)"
   ]
  },
  {
   "cell_type": "markdown",
   "metadata": {},
   "source": [
    "Try solving"
   ]
  },
  {
   "cell_type": "code",
   "execution_count": null,
   "metadata": {},
   "outputs": [],
   "source": [
    "sol_test = solve(prob_test);"
   ]
  },
  {
   "cell_type": "code",
   "execution_count": null,
   "metadata": {},
   "outputs": [],
   "source": [
    "using BenchmarkTools\n",
    "@benchmark solve(prob_test)"
   ]
  },
  {
   "cell_type": "code",
   "execution_count": null,
   "metadata": {},
   "outputs": [],
   "source": [
    "prob_test.model.u0"
   ]
  },
  {
   "cell_type": "code",
   "execution_count": null,
   "metadata": {},
   "outputs": [],
   "source": [
    "prob_test.cache.u"
   ]
  },
  {
   "cell_type": "code",
   "execution_count": null,
   "metadata": {},
   "outputs": [],
   "source": [
    "sol_test.u"
   ]
  },
  {
   "cell_type": "code",
   "execution_count": null,
   "metadata": {},
   "outputs": [],
   "source": []
  },
  {
   "cell_type": "code",
   "execution_count": null,
   "metadata": {},
   "outputs": [],
   "source": []
  }
 ],
 "metadata": {
  "@webio": {
   "lastCommId": null,
   "lastKernelId": null
  },
  "kernelspec": {
   "display_name": "Julia 1.5.2",
   "language": "julia",
   "name": "julia-1.5"
  },
  "language_info": {
   "file_extension": ".jl",
   "mimetype": "application/julia",
   "name": "julia",
   "version": "1.5.2"
  }
 },
 "nbformat": 4,
 "nbformat_minor": 4
}
